{
 "cells": [
  {
   "cell_type": "code",
   "execution_count": 1,
   "metadata": {},
   "outputs": [
    {
     "name": "stdout",
     "output_type": "stream",
     "text": [
      "TensorFlow Version: 1.2.1\n",
      "Default GPU Device: /gpu:0\n"
     ]
    }
   ],
   "source": [
    "from main import *\n",
    "import tensorflow as tf\n",
    "\n",
    "from tqdm import tnrange, tqdm_notebook, tqdm"
   ]
  },
  {
   "cell_type": "code",
   "execution_count": 18,
   "metadata": {},
   "outputs": [
    {
     "name": "stdout",
     "output_type": "stream",
     "text": [
      "Tests Passed\n"
     ]
    }
   ],
   "source": [
    "num_classes = 2\n",
    "image_shape = (160, 576)\n",
    "epochs = 15\n",
    "batch_size = 5\n",
    "data_dir = './data'\n",
    "runs_dir = './runs'\n",
    "tests.test_for_kitti_dataset(data_dir)\n",
    "\n",
    "# Download pretrained vgg model\n",
    "helper.maybe_download_pretrained_vgg(data_dir)\n",
    "\n",
    "# Path to vgg model\n",
    "vgg_path = os.path.join(data_dir, 'vgg')"
   ]
  },
  {
   "cell_type": "code",
   "execution_count": 3,
   "metadata": {
    "collapsed": true
   },
   "outputs": [],
   "source": [
    "sess = tf.Session()"
   ]
  },
  {
   "cell_type": "code",
   "execution_count": null,
   "metadata": {
    "collapsed": true
   },
   "outputs": [],
   "source": [
    "# def load_model(sess, model_path):\n",
    "#     input_image, keep_prob, layer3_out, layer4_out, layer7_out = load_vgg(sess, vgg_path)\n",
    "#     nn_layers = layers(layer3_out, layer4_out, layer7_out, num_classes)\n",
    "#     learning_rate = tf.placeholder(tf.float32)\n",
    "#     correct_label = tf.placeholder(tf.float32, shape=(None, None, None, num_classes))\n",
    "#     logits, train_op, cross_entropy_loss = optimize(nn_layers, correct_label, learning_rate, num_classes)\n",
    "\n",
    "#     saver = tf.train.Saver()\n",
    "#     # Restore variables from disk.\n",
    "#     saver.restore(sess, model_path)\n",
    "\n",
    "#     g = tf.get_default_graph()\n",
    "# #     print(g.get_operations())\n",
    "#     logits = g.get_tensor_by_name('logits:0')\n",
    "#     keep_prob = g.get_tensor_by_name('keep_prob:0')\n",
    "#     input_image = g.get_tensor_by_name('image_input:0')\n",
    "# #     correct_label = g.get_tensor_by_name('correct_label:0')\n",
    "# #     learning_rate = g.get_tensor_by_name('learning_rate:0')\n",
    "#     cross_entropy_loss = g.get_tensor_by_name('loss:0')\n",
    "#     optimizer = tf.train.AdamOptimizer(learning_rate, name='Adam')\n",
    "#     train_op = optimizer.minimize(cross_entropy_loss, name='train_op')"
   ]
  },
  {
   "cell_type": "code",
   "execution_count": 4,
   "metadata": {},
   "outputs": [
    {
     "name": "stdout",
     "output_type": "stream",
     "text": [
      "INFO:tensorflow:Restoring parameters from b'./data/vgg/variables/variables'\n"
     ]
    }
   ],
   "source": [
    "# OPTIONAL: Augment Images for better results\n",
    "#  https://datascience.stackexchange.com/questions/5224/how-to-prepare-augment-images-for-neural-network\n",
    "\n",
    "# TODO: Build NN using load_vgg, layers, and optimize function\n",
    "input_image, keep_prob, layer3_out, layer4_out, layer7_out = load_vgg(sess, vgg_path)\n",
    "nn_layers = layers(layer3_out, layer4_out, layer7_out, num_classes)\n",
    "learning_rate = tf.placeholder(tf.float32, name='learning_rate')\n",
    "correct_label = tf.placeholder(tf.float32, shape=(None, None, None, num_classes), name='correct_label')\n",
    "logits, train_op, cross_entropy_loss = optimize(nn_layers, correct_label, learning_rate, num_classes)\n",
    "\n",
    "# Initialize TF variables\n",
    "sess.run(tf.global_variables_initializer())"
   ]
  },
  {
   "cell_type": "code",
   "execution_count": 6,
   "metadata": {
    "collapsed": true
   },
   "outputs": [],
   "source": [
    "get_batches_fn = helper.gen_batch_function(os.path.join(data_dir, 'data_road/training'), image_shape)"
   ]
  },
  {
   "cell_type": "code",
   "execution_count": 7,
   "metadata": {},
   "outputs": [
    {
     "data": {
      "application/vnd.jupyter.widget-view+json": {
       "model_id": "7683dac6864b49aaaef55fc430830a9e"
      }
     },
     "metadata": {},
     "output_type": "display_data"
    },
    {
     "data": {
      "application/vnd.jupyter.widget-view+json": {
       "model_id": "cb690f8465ae48ef8f60ba3d88b3abef"
      }
     },
     "metadata": {},
     "output_type": "display_data"
    },
    {
     "data": {
      "application/vnd.jupyter.widget-view+json": {
       "model_id": "9bf111087f00455dab7520c65be24a60"
      }
     },
     "metadata": {},
     "output_type": "display_data"
    },
    {
     "data": {
      "application/vnd.jupyter.widget-view+json": {
       "model_id": "ee45dd8df1134b3c9bc359c9913dbb70"
      }
     },
     "metadata": {},
     "output_type": "display_data"
    },
    {
     "data": {
      "application/vnd.jupyter.widget-view+json": {
       "model_id": "4c8a48c45cb84717b4f2799cdaeee931"
      }
     },
     "metadata": {},
     "output_type": "display_data"
    },
    {
     "data": {
      "application/vnd.jupyter.widget-view+json": {
       "model_id": "af4ce3cf96bf429488a15ec860d13ba4"
      }
     },
     "metadata": {},
     "output_type": "display_data"
    },
    {
     "data": {
      "application/vnd.jupyter.widget-view+json": {
       "model_id": "0f66f4e260e84f21bf2f5a036d32e0cf"
      }
     },
     "metadata": {},
     "output_type": "display_data"
    },
    {
     "data": {
      "application/vnd.jupyter.widget-view+json": {
       "model_id": "c8003103be09405e9f3c1168cecf2dbc"
      }
     },
     "metadata": {},
     "output_type": "display_data"
    },
    {
     "data": {
      "application/vnd.jupyter.widget-view+json": {
       "model_id": "29d612871ee24eecbfae88f3a195d714"
      }
     },
     "metadata": {},
     "output_type": "display_data"
    },
    {
     "data": {
      "application/vnd.jupyter.widget-view+json": {
       "model_id": "dcafb0d79eff40a6a30721730e6aa8ca"
      }
     },
     "metadata": {},
     "output_type": "display_data"
    },
    {
     "data": {
      "application/vnd.jupyter.widget-view+json": {
       "model_id": "dd2645cec5e14e5bbc645c3d44879a11"
      }
     },
     "metadata": {},
     "output_type": "display_data"
    },
    {
     "data": {
      "application/vnd.jupyter.widget-view+json": {
       "model_id": "877814d52998461ba221a94264c82660"
      }
     },
     "metadata": {},
     "output_type": "display_data"
    },
    {
     "data": {
      "application/vnd.jupyter.widget-view+json": {
       "model_id": "b109286d44c84ed2b6b5b2f010f49260"
      }
     },
     "metadata": {},
     "output_type": "display_data"
    },
    {
     "data": {
      "application/vnd.jupyter.widget-view+json": {
       "model_id": "490024ab189f4cb5addc6bb3e8c079ce"
      }
     },
     "metadata": {},
     "output_type": "display_data"
    },
    {
     "data": {
      "application/vnd.jupyter.widget-view+json": {
       "model_id": "e256ffb8b2c74b65b4bf4a877efc88e4"
      }
     },
     "metadata": {},
     "output_type": "display_data"
    },
    {
     "data": {
      "application/vnd.jupyter.widget-view+json": {
       "model_id": "fd2e90e124ed4f98b1b78289031234b9"
      }
     },
     "metadata": {},
     "output_type": "display_data"
    },
    {
     "name": "stdout",
     "output_type": "stream",
     "text": [
      "\n"
     ]
    }
   ],
   "source": [
    "for ep in tnrange(epochs, unit=' epochs'):\n",
    "    pbar = tqdm_notebook(enumerate(get_batches_fn(batch_size)), unit=' batches')\n",
    "    for batch_idx, (image, label) in pbar:\n",
    "        feed_dict = {input_image: image,\n",
    "                     correct_label: label,\n",
    "                     keep_prob: 0.50,\n",
    "                     learning_rate: 1e-5,\n",
    "                     }\n",
    "        _, loss = sess.run([train_op, cross_entropy_loss], feed_dict)\n",
    "        if batch_idx % 10 == 0:\n",
    "            pbar.set_description('Epoch: %d, Batch: %d, Loss = %.3f' % (ep+1, batch_idx, loss))"
   ]
  },
  {
   "cell_type": "code",
   "execution_count": null,
   "metadata": {
    "collapsed": true
   },
   "outputs": [],
   "source": [
    "helper.save_inference_samples(runs_dir, data_dir, sess, image_shape, logits, keep_prob, input_image)"
   ]
  },
  {
   "cell_type": "code",
   "execution_count": 21,
   "metadata": {},
   "outputs": [
    {
     "ename": "RuntimeError",
     "evalue": "Attempted to use a closed Session.",
     "output_type": "error",
     "traceback": [
      "\u001b[0;31m---------------------------------------------------------------------------\u001b[0m",
      "\u001b[0;31mRuntimeError\u001b[0m                              Traceback (most recent call last)",
      "\u001b[0;32m<ipython-input-21-9812f9ce0bc0>\u001b[0m in \u001b[0;36m<module>\u001b[0;34m()\u001b[0m\n\u001b[1;32m     14\u001b[0m \u001b[0;34m\u001b[0m\u001b[0m\n\u001b[1;32m     15\u001b[0m \u001b[0mtf\u001b[0m\u001b[0;34m.\u001b[0m\u001b[0mtrain\u001b[0m\u001b[0;34m.\u001b[0m\u001b[0mwrite_graph\u001b[0m\u001b[0;34m(\u001b[0m\u001b[0msess\u001b[0m\u001b[0;34m.\u001b[0m\u001b[0mgraph_def\u001b[0m\u001b[0;34m,\u001b[0m \u001b[0;34m'data/ckpt'\u001b[0m\u001b[0;34m,\u001b[0m \u001b[0;34m'model.pb'\u001b[0m\u001b[0;34m,\u001b[0m \u001b[0mas_text\u001b[0m\u001b[0;34m=\u001b[0m\u001b[0;32mFalse\u001b[0m\u001b[0;34m)\u001b[0m \u001b[0;31m# Save model\u001b[0m\u001b[0;34m\u001b[0m\u001b[0m\n\u001b[0;32m---> 16\u001b[0;31m \u001b[0msave_path\u001b[0m \u001b[0;34m=\u001b[0m \u001b[0msaver\u001b[0m\u001b[0;34m.\u001b[0m\u001b[0msave\u001b[0m\u001b[0;34m(\u001b[0m\u001b[0msess\u001b[0m\u001b[0;34m,\u001b[0m \u001b[0;34m\"./data/ckpt/model_15epoch_0119_good.ckpt\"\u001b[0m\u001b[0;34m)\u001b[0m \u001b[0;31m# Save weights\u001b[0m\u001b[0;34m\u001b[0m\u001b[0m\n\u001b[0m\u001b[1;32m     17\u001b[0m \u001b[0;34m\u001b[0m\u001b[0m\n\u001b[1;32m     18\u001b[0m \u001b[0mprint\u001b[0m\u001b[0;34m(\u001b[0m\u001b[0;34m\"Model saved in file: %s\"\u001b[0m \u001b[0;34m%\u001b[0m \u001b[0msave_path\u001b[0m\u001b[0;34m)\u001b[0m\u001b[0;34m\u001b[0m\u001b[0m\n",
      "\u001b[0;32m/home/ubuntu/anaconda3/lib/python3.6/site-packages/tensorflow/python/training/saver.py\u001b[0m in \u001b[0;36msave\u001b[0;34m(self, sess, save_path, global_step, latest_filename, meta_graph_suffix, write_meta_graph, write_state)\u001b[0m\n\u001b[1;32m   1470\u001b[0m         model_checkpoint_path = sess.run(\n\u001b[1;32m   1471\u001b[0m             \u001b[0mself\u001b[0m\u001b[0;34m.\u001b[0m\u001b[0msaver_def\u001b[0m\u001b[0;34m.\u001b[0m\u001b[0msave_tensor_name\u001b[0m\u001b[0;34m,\u001b[0m\u001b[0;34m\u001b[0m\u001b[0m\n\u001b[0;32m-> 1472\u001b[0;31m             {self.saver_def.filename_tensor_name: checkpoint_file})\n\u001b[0m\u001b[1;32m   1473\u001b[0m         \u001b[0mmodel_checkpoint_path\u001b[0m \u001b[0;34m=\u001b[0m \u001b[0mcompat\u001b[0m\u001b[0;34m.\u001b[0m\u001b[0mas_str\u001b[0m\u001b[0;34m(\u001b[0m\u001b[0mmodel_checkpoint_path\u001b[0m\u001b[0;34m)\u001b[0m\u001b[0;34m\u001b[0m\u001b[0m\n\u001b[1;32m   1474\u001b[0m         \u001b[0;32mif\u001b[0m \u001b[0mwrite_state\u001b[0m\u001b[0;34m:\u001b[0m\u001b[0;34m\u001b[0m\u001b[0m\n",
      "\u001b[0;32m/home/ubuntu/anaconda3/lib/python3.6/site-packages/tensorflow/python/client/session.py\u001b[0m in \u001b[0;36mrun\u001b[0;34m(self, fetches, feed_dict, options, run_metadata)\u001b[0m\n\u001b[1;32m    787\u001b[0m     \u001b[0;32mtry\u001b[0m\u001b[0;34m:\u001b[0m\u001b[0;34m\u001b[0m\u001b[0m\n\u001b[1;32m    788\u001b[0m       result = self._run(None, fetches, feed_dict, options_ptr,\n\u001b[0;32m--> 789\u001b[0;31m                          run_metadata_ptr)\n\u001b[0m\u001b[1;32m    790\u001b[0m       \u001b[0;32mif\u001b[0m \u001b[0mrun_metadata\u001b[0m\u001b[0;34m:\u001b[0m\u001b[0;34m\u001b[0m\u001b[0m\n\u001b[1;32m    791\u001b[0m         \u001b[0mproto_data\u001b[0m \u001b[0;34m=\u001b[0m \u001b[0mtf_session\u001b[0m\u001b[0;34m.\u001b[0m\u001b[0mTF_GetBuffer\u001b[0m\u001b[0;34m(\u001b[0m\u001b[0mrun_metadata_ptr\u001b[0m\u001b[0;34m)\u001b[0m\u001b[0;34m\u001b[0m\u001b[0m\n",
      "\u001b[0;32m/home/ubuntu/anaconda3/lib/python3.6/site-packages/tensorflow/python/client/session.py\u001b[0m in \u001b[0;36m_run\u001b[0;34m(self, handle, fetches, feed_dict, options, run_metadata)\u001b[0m\n\u001b[1;32m    923\u001b[0m     \u001b[0;31m# Check session.\u001b[0m\u001b[0;34m\u001b[0m\u001b[0;34m\u001b[0m\u001b[0m\n\u001b[1;32m    924\u001b[0m     \u001b[0;32mif\u001b[0m \u001b[0mself\u001b[0m\u001b[0;34m.\u001b[0m\u001b[0m_closed\u001b[0m\u001b[0;34m:\u001b[0m\u001b[0;34m\u001b[0m\u001b[0m\n\u001b[0;32m--> 925\u001b[0;31m       \u001b[0;32mraise\u001b[0m \u001b[0mRuntimeError\u001b[0m\u001b[0;34m(\u001b[0m\u001b[0;34m'Attempted to use a closed Session.'\u001b[0m\u001b[0;34m)\u001b[0m\u001b[0;34m\u001b[0m\u001b[0m\n\u001b[0m\u001b[1;32m    926\u001b[0m     \u001b[0;32mif\u001b[0m \u001b[0mself\u001b[0m\u001b[0;34m.\u001b[0m\u001b[0mgraph\u001b[0m\u001b[0;34m.\u001b[0m\u001b[0mversion\u001b[0m \u001b[0;34m==\u001b[0m \u001b[0;36m0\u001b[0m\u001b[0;34m:\u001b[0m\u001b[0;34m\u001b[0m\u001b[0m\n\u001b[1;32m    927\u001b[0m       raise RuntimeError('The Session graph is empty.  Add operations to the '\n",
      "\u001b[0;31mRuntimeError\u001b[0m: Attempted to use a closed Session."
     ]
    }
   ],
   "source": [
    "import time\n",
    "saver = tf.train.Saver()\n",
    "\n",
    "tf.add_to_collection('train_vars', input_image)\n",
    "tf.add_to_collection('train_vars', correct_label)\n",
    "tf.add_to_collection('train_vars', keep_prob)\n",
    "tf.add_to_collection('train_vars', learning_rate)\n",
    "tf.add_to_collection('train_vars', train_op)\n",
    "tf.add_to_collection('train_vars', cross_entropy_loss)\n",
    "\n",
    "tf.add_to_collection('eval_vars', input_image)\n",
    "tf.add_to_collection('eval_vars', logits)\n",
    "tf.add_to_collection('eval_vars', keep_prob)\n",
    "\n",
    "tf.train.write_graph(sess.graph_def, 'data/ckpt', 'model.pb', as_text=False) # Save model\n",
    "save_path = saver.save(sess, \"./data/ckpt/model_15epoch_0119_good.ckpt\") # Save weights\n",
    "\n",
    "print(\"Model saved in file: %s\" % save_path)"
   ]
  },
  {
   "cell_type": "code",
   "execution_count": null,
   "metadata": {
    "collapsed": true
   },
   "outputs": [],
   "source": [
    "sess.close()"
   ]
  },
  {
   "cell_type": "code",
   "execution_count": 20,
   "metadata": {},
   "outputs": [
    {
     "name": "stdout",
     "output_type": "stream",
     "text": [
      "INFO:tensorflow:Restoring parameters from b'./data/vgg/variables/variables'\n",
      "WARNING:tensorflow:From <ipython-input-20-ce9574bfe2f2>:24: all_variables (from tensorflow.python.ops.variables) is deprecated and will be removed after 2017-03-02.\n",
      "Instructions for updating:\n",
      "Please use tf.global_variables instead.\n",
      "[<tf.Variable 'conv1_1/filter:0' shape=(3, 3, 3, 64) dtype=float32_ref>, <tf.Variable 'conv1_1/biases:0' shape=(64,) dtype=float32_ref>, <tf.Variable 'conv1_2/filter:0' shape=(3, 3, 64, 64) dtype=float32_ref>, <tf.Variable 'conv1_2/biases:0' shape=(64,) dtype=float32_ref>, <tf.Variable 'conv2_1/filter:0' shape=(3, 3, 64, 128) dtype=float32_ref>, <tf.Variable 'conv2_1/biases:0' shape=(128,) dtype=float32_ref>, <tf.Variable 'conv2_2/filter:0' shape=(3, 3, 128, 128) dtype=float32_ref>, <tf.Variable 'conv2_2/biases:0' shape=(128,) dtype=float32_ref>, <tf.Variable 'conv3_1/filter:0' shape=(3, 3, 128, 256) dtype=float32_ref>, <tf.Variable 'conv3_1/biases:0' shape=(256,) dtype=float32_ref>, <tf.Variable 'conv3_2/filter:0' shape=(3, 3, 256, 256) dtype=float32_ref>, <tf.Variable 'conv3_2/biases:0' shape=(256,) dtype=float32_ref>, <tf.Variable 'conv3_3/filter:0' shape=(3, 3, 256, 256) dtype=float32_ref>, <tf.Variable 'conv3_3/biases:0' shape=(256,) dtype=float32_ref>, <tf.Variable 'conv4_1/filter:0' shape=(3, 3, 256, 512) dtype=float32_ref>, <tf.Variable 'conv4_1/biases:0' shape=(512,) dtype=float32_ref>, <tf.Variable 'conv4_2/filter:0' shape=(3, 3, 512, 512) dtype=float32_ref>, <tf.Variable 'conv4_2/biases:0' shape=(512,) dtype=float32_ref>, <tf.Variable 'conv4_3/filter:0' shape=(3, 3, 512, 512) dtype=float32_ref>, <tf.Variable 'conv4_3/biases:0' shape=(512,) dtype=float32_ref>, <tf.Variable 'conv5_1/filter:0' shape=(3, 3, 512, 512) dtype=float32_ref>, <tf.Variable 'conv5_1/biases:0' shape=(512,) dtype=float32_ref>, <tf.Variable 'conv5_2/filter:0' shape=(3, 3, 512, 512) dtype=float32_ref>, <tf.Variable 'conv5_2/biases:0' shape=(512,) dtype=float32_ref>, <tf.Variable 'conv5_3/filter:0' shape=(3, 3, 512, 512) dtype=float32_ref>, <tf.Variable 'conv5_3/biases:0' shape=(512,) dtype=float32_ref>, <tf.Variable 'fc6/weights:0' shape=(7, 7, 512, 4096) dtype=float32_ref>, <tf.Variable 'fc6/biases:0' shape=(4096,) dtype=float32_ref>, <tf.Variable 'fc7/weights:0' shape=(1, 1, 4096, 4096) dtype=float32_ref>, <tf.Variable 'fc7/biases:0' shape=(4096,) dtype=float32_ref>, <tf.Variable 'conv2d/kernel:0' shape=(1, 1, 4096, 2) dtype=float32_ref>, <tf.Variable 'conv2d/bias:0' shape=(2,) dtype=float32_ref>, <tf.Variable 'conv2d_1/kernel:0' shape=(1, 1, 512, 2) dtype=float32_ref>, <tf.Variable 'conv2d_1/bias:0' shape=(2,) dtype=float32_ref>, <tf.Variable 'conv2d_2/kernel:0' shape=(1, 1, 256, 2) dtype=float32_ref>, <tf.Variable 'conv2d_2/bias:0' shape=(2,) dtype=float32_ref>, <tf.Variable 'conv2d_transpose/kernel:0' shape=(4, 4, 2, 2) dtype=float32_ref>, <tf.Variable 'conv2d_transpose/bias:0' shape=(2,) dtype=float32_ref>, <tf.Variable 'conv2d_transpose_1/kernel:0' shape=(8, 8, 2, 2) dtype=float32_ref>, <tf.Variable 'conv2d_transpose_1/bias:0' shape=(2,) dtype=float32_ref>, <tf.Variable 'fcn/kernel:0' shape=(16, 16, 2, 2) dtype=float32_ref>, <tf.Variable 'fcn/bias:0' shape=(2,) dtype=float32_ref>, <tf.Variable 'beta1_power:0' shape=() dtype=float32_ref>, <tf.Variable 'beta2_power:0' shape=() dtype=float32_ref>, <tf.Variable 'conv1_1/filter/Adam:0' shape=(3, 3, 3, 64) dtype=float32_ref>, <tf.Variable 'conv1_1/filter/Adam_1:0' shape=(3, 3, 3, 64) dtype=float32_ref>, <tf.Variable 'conv1_1/biases/Adam:0' shape=(64,) dtype=float32_ref>, <tf.Variable 'conv1_1/biases/Adam_1:0' shape=(64,) dtype=float32_ref>, <tf.Variable 'conv1_2/filter/Adam:0' shape=(3, 3, 64, 64) dtype=float32_ref>, <tf.Variable 'conv1_2/filter/Adam_1:0' shape=(3, 3, 64, 64) dtype=float32_ref>, <tf.Variable 'conv1_2/biases/Adam:0' shape=(64,) dtype=float32_ref>, <tf.Variable 'conv1_2/biases/Adam_1:0' shape=(64,) dtype=float32_ref>, <tf.Variable 'conv2_1/filter/Adam:0' shape=(3, 3, 64, 128) dtype=float32_ref>, <tf.Variable 'conv2_1/filter/Adam_1:0' shape=(3, 3, 64, 128) dtype=float32_ref>, <tf.Variable 'conv2_1/biases/Adam:0' shape=(128,) dtype=float32_ref>, <tf.Variable 'conv2_1/biases/Adam_1:0' shape=(128,) dtype=float32_ref>, <tf.Variable 'conv2_2/filter/Adam:0' shape=(3, 3, 128, 128) dtype=float32_ref>, <tf.Variable 'conv2_2/filter/Adam_1:0' shape=(3, 3, 128, 128) dtype=float32_ref>, <tf.Variable 'conv2_2/biases/Adam:0' shape=(128,) dtype=float32_ref>, <tf.Variable 'conv2_2/biases/Adam_1:0' shape=(128,) dtype=float32_ref>, <tf.Variable 'conv3_1/filter/Adam:0' shape=(3, 3, 128, 256) dtype=float32_ref>, <tf.Variable 'conv3_1/filter/Adam_1:0' shape=(3, 3, 128, 256) dtype=float32_ref>, <tf.Variable 'conv3_1/biases/Adam:0' shape=(256,) dtype=float32_ref>, <tf.Variable 'conv3_1/biases/Adam_1:0' shape=(256,) dtype=float32_ref>, <tf.Variable 'conv3_2/filter/Adam:0' shape=(3, 3, 256, 256) dtype=float32_ref>, <tf.Variable 'conv3_2/filter/Adam_1:0' shape=(3, 3, 256, 256) dtype=float32_ref>, <tf.Variable 'conv3_2/biases/Adam:0' shape=(256,) dtype=float32_ref>, <tf.Variable 'conv3_2/biases/Adam_1:0' shape=(256,) dtype=float32_ref>, <tf.Variable 'conv3_3/filter/Adam:0' shape=(3, 3, 256, 256) dtype=float32_ref>, <tf.Variable 'conv3_3/filter/Adam_1:0' shape=(3, 3, 256, 256) dtype=float32_ref>, <tf.Variable 'conv3_3/biases/Adam:0' shape=(256,) dtype=float32_ref>, <tf.Variable 'conv3_3/biases/Adam_1:0' shape=(256,) dtype=float32_ref>, <tf.Variable 'conv4_1/filter/Adam:0' shape=(3, 3, 256, 512) dtype=float32_ref>, <tf.Variable 'conv4_1/filter/Adam_1:0' shape=(3, 3, 256, 512) dtype=float32_ref>, <tf.Variable 'conv4_1/biases/Adam:0' shape=(512,) dtype=float32_ref>, <tf.Variable 'conv4_1/biases/Adam_1:0' shape=(512,) dtype=float32_ref>, <tf.Variable 'conv4_2/filter/Adam:0' shape=(3, 3, 512, 512) dtype=float32_ref>, <tf.Variable 'conv4_2/filter/Adam_1:0' shape=(3, 3, 512, 512) dtype=float32_ref>, <tf.Variable 'conv4_2/biases/Adam:0' shape=(512,) dtype=float32_ref>, <tf.Variable 'conv4_2/biases/Adam_1:0' shape=(512,) dtype=float32_ref>, <tf.Variable 'conv4_3/filter/Adam:0' shape=(3, 3, 512, 512) dtype=float32_ref>, <tf.Variable 'conv4_3/filter/Adam_1:0' shape=(3, 3, 512, 512) dtype=float32_ref>, <tf.Variable 'conv4_3/biases/Adam:0' shape=(512,) dtype=float32_ref>, <tf.Variable 'conv4_3/biases/Adam_1:0' shape=(512,) dtype=float32_ref>, <tf.Variable 'conv5_1/filter/Adam:0' shape=(3, 3, 512, 512) dtype=float32_ref>, <tf.Variable 'conv5_1/filter/Adam_1:0' shape=(3, 3, 512, 512) dtype=float32_ref>, <tf.Variable 'conv5_1/biases/Adam:0' shape=(512,) dtype=float32_ref>, <tf.Variable 'conv5_1/biases/Adam_1:0' shape=(512,) dtype=float32_ref>, <tf.Variable 'conv5_2/filter/Adam:0' shape=(3, 3, 512, 512) dtype=float32_ref>, <tf.Variable 'conv5_2/filter/Adam_1:0' shape=(3, 3, 512, 512) dtype=float32_ref>, <tf.Variable 'conv5_2/biases/Adam:0' shape=(512,) dtype=float32_ref>, <tf.Variable 'conv5_2/biases/Adam_1:0' shape=(512,) dtype=float32_ref>, <tf.Variable 'conv5_3/filter/Adam:0' shape=(3, 3, 512, 512) dtype=float32_ref>, <tf.Variable 'conv5_3/filter/Adam_1:0' shape=(3, 3, 512, 512) dtype=float32_ref>, <tf.Variable 'conv5_3/biases/Adam:0' shape=(512,) dtype=float32_ref>, <tf.Variable 'conv5_3/biases/Adam_1:0' shape=(512,) dtype=float32_ref>, <tf.Variable 'fc6/weights/Adam:0' shape=(7, 7, 512, 4096) dtype=float32_ref>, <tf.Variable 'fc6/weights/Adam_1:0' shape=(7, 7, 512, 4096) dtype=float32_ref>, <tf.Variable 'fc6/biases/Adam:0' shape=(4096,) dtype=float32_ref>, <tf.Variable 'fc6/biases/Adam_1:0' shape=(4096,) dtype=float32_ref>, <tf.Variable 'fc7/weights/Adam:0' shape=(1, 1, 4096, 4096) dtype=float32_ref>, <tf.Variable 'fc7/weights/Adam_1:0' shape=(1, 1, 4096, 4096) dtype=float32_ref>, <tf.Variable 'fc7/biases/Adam:0' shape=(4096,) dtype=float32_ref>, <tf.Variable 'fc7/biases/Adam_1:0' shape=(4096,) dtype=float32_ref>, <tf.Variable 'conv2d/kernel/Adam:0' shape=(1, 1, 4096, 2) dtype=float32_ref>, <tf.Variable 'conv2d/kernel/Adam_1:0' shape=(1, 1, 4096, 2) dtype=float32_ref>, <tf.Variable 'conv2d/bias/Adam:0' shape=(2,) dtype=float32_ref>, <tf.Variable 'conv2d/bias/Adam_1:0' shape=(2,) dtype=float32_ref>, <tf.Variable 'conv2d_1/kernel/Adam:0' shape=(1, 1, 512, 2) dtype=float32_ref>, <tf.Variable 'conv2d_1/kernel/Adam_1:0' shape=(1, 1, 512, 2) dtype=float32_ref>, <tf.Variable 'conv2d_1/bias/Adam:0' shape=(2,) dtype=float32_ref>, <tf.Variable 'conv2d_1/bias/Adam_1:0' shape=(2,) dtype=float32_ref>, <tf.Variable 'conv2d_2/kernel/Adam:0' shape=(1, 1, 256, 2) dtype=float32_ref>, <tf.Variable 'conv2d_2/kernel/Adam_1:0' shape=(1, 1, 256, 2) dtype=float32_ref>, <tf.Variable 'conv2d_2/bias/Adam:0' shape=(2,) dtype=float32_ref>, <tf.Variable 'conv2d_2/bias/Adam_1:0' shape=(2,) dtype=float32_ref>, <tf.Variable 'conv2d_transpose/kernel/Adam:0' shape=(4, 4, 2, 2) dtype=float32_ref>, <tf.Variable 'conv2d_transpose/kernel/Adam_1:0' shape=(4, 4, 2, 2) dtype=float32_ref>, <tf.Variable 'conv2d_transpose/bias/Adam:0' shape=(2,) dtype=float32_ref>, <tf.Variable 'conv2d_transpose/bias/Adam_1:0' shape=(2,) dtype=float32_ref>, <tf.Variable 'conv2d_transpose_1/kernel/Adam:0' shape=(8, 8, 2, 2) dtype=float32_ref>, <tf.Variable 'conv2d_transpose_1/kernel/Adam_1:0' shape=(8, 8, 2, 2) dtype=float32_ref>, <tf.Variable 'conv2d_transpose_1/bias/Adam:0' shape=(2,) dtype=float32_ref>, <tf.Variable 'conv2d_transpose_1/bias/Adam_1:0' shape=(2,) dtype=float32_ref>, <tf.Variable 'fcn/kernel/Adam:0' shape=(16, 16, 2, 2) dtype=float32_ref>, <tf.Variable 'fcn/kernel/Adam_1:0' shape=(16, 16, 2, 2) dtype=float32_ref>, <tf.Variable 'fcn/bias/Adam:0' shape=(2,) dtype=float32_ref>, <tf.Variable 'fcn/bias/Adam_1:0' shape=(2,) dtype=float32_ref>]\n"
     ]
    },
    {
     "name": "stdout",
     "output_type": "stream",
     "text": [
      "INFO:tensorflow:Restoring parameters from ./data/ckpt/model_20epoch_0119.ckpt\n"
     ]
    },
    {
     "name": "stderr",
     "output_type": "stream",
     "text": [
      "\r",
      "0 files [00:00, ? files/s]"
     ]
    },
    {
     "name": "stdout",
     "output_type": "stream",
     "text": [
      "Training Finished. Saving test images to: ./runs/1504591984.6564643\n"
     ]
    },
    {
     "name": "stderr",
     "output_type": "stream",
     "text": [
      "290 files [03:13,  1.54 files/s]\n"
     ]
    }
   ],
   "source": [
    "tf.reset_default_graph()\n",
    "model_path = './data/ckpt/model.pb'\n",
    "weights_path = './data/ckpt/model_20epoch_0119.ckpt'\n",
    "\n",
    "train_elements = ['image_input:0', 'correct_label:0', 'keep_prob:0', 'learning_rate:0', 'train_op:0', 'loss:0']\n",
    "eval_elements = ['image_input:0', 'logits:0', 'keep_prob:0']\n",
    "\n",
    "with tf.Session() as sess:\n",
    "    input_image, keep_prob, layer3_out, layer4_out, layer7_out = load_vgg(sess, vgg_path)\n",
    "    nn_layers = layers(layer3_out, layer4_out, layer7_out, num_classes)\n",
    "    learning_rate = tf.placeholder(tf.float32)\n",
    "    correct_label = tf.placeholder(tf.float32, shape=(None, None, None, num_classes))\n",
    "    logits, train_op, cross_entropy_loss = optimize(nn_layers, correct_label, learning_rate, num_classes)\n",
    "\n",
    "#     with tf.gfile.FastGFile(model_path,'rb') as f:\n",
    "#         graph_def = tf.GraphDef()\n",
    "#         graph_def.ParseFromString(f.read())\n",
    "#     #     input_image, correct_label, keep_prob, learning_rate, train_op, cross_entropy_loss = \\\n",
    "#     #                     tf.import_graph_def(graph_def, name='', return_elements=train_elements)\n",
    "#         sess.graph.as_default()\n",
    "#         tf.import_graph_def(graph_def, name='')#, return_elements=eval_elements)\n",
    "#         sess.run(tf.global_variables_initializer())\n",
    "\n",
    "    saver = tf.train.Saver() # 'Saver' misnomer! Better: Persister!\n",
    "\n",
    "    saver.restore(sess, weights_path)\n",
    "    helper.save_inference_samples(runs_dir, data_dir, sess, image_shape, logits, keep_prob, input_image)    "
   ]
  },
  {
   "cell_type": "code",
   "execution_count": null,
   "metadata": {
    "collapsed": true
   },
   "outputs": [],
   "source": []
  }
 ],
 "metadata": {
  "kernelspec": {
   "display_name": "Python 3",
   "language": "python",
   "name": "python3"
  },
  "language_info": {
   "codemirror_mode": {
    "name": "ipython",
    "version": 3
   },
   "file_extension": ".py",
   "mimetype": "text/x-python",
   "name": "python",
   "nbconvert_exporter": "python",
   "pygments_lexer": "ipython3",
   "version": "3.6.1"
  }
 },
 "nbformat": 4,
 "nbformat_minor": 2
}
