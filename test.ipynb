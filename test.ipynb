{
 "cells": [
  {
   "cell_type": "code",
   "execution_count": 2,
   "metadata": {},
   "outputs": [],
   "source": [
    "from main import *\n",
    "import tensorflow as tf\n",
    "\n",
    "from tqdm import tnrange, tqdm_notebook, tqdm"
   ]
  },
  {
   "cell_type": "code",
   "execution_count": 8,
   "metadata": {},
   "outputs": [
    {
     "name": "stdout",
     "output_type": "stream",
     "text": [
      "Tests Passed\n"
     ]
    }
   ],
   "source": [
    "num_classes = 2\n",
    "image_shape = (160, 576)\n",
    "epochs = 15\n",
    "batch_size = 5\n",
    "data_dir = './data'\n",
    "runs_dir = './runs'\n",
    "tests.test_for_kitti_dataset(data_dir)\n",
    "\n",
    "# Download pretrained vgg model\n",
    "helper.maybe_download_pretrained_vgg(data_dir)\n",
    "\n",
    "# Path to vgg model\n",
    "vgg_path = os.path.join(data_dir, 'vgg')"
   ]
  },
  {
   "cell_type": "code",
   "execution_count": 4,
   "metadata": {
    "collapsed": true
   },
   "outputs": [],
   "source": [
    "sess = tf.Session()"
   ]
  },
  {
   "cell_type": "code",
   "execution_count": 5,
   "metadata": {},
   "outputs": [
    {
     "name": "stdout",
     "output_type": "stream",
     "text": [
      "INFO:tensorflow:Restoring parameters from b'./data/vgg/variables/variables'\n"
     ]
    }
   ],
   "source": [
    "# OPTIONAL: Augment Images for better results\n",
    "#  https://datascience.stackexchange.com/questions/5224/how-to-prepare-augment-images-for-neural-network\n",
    "\n",
    "# TODO: Build NN using load_vgg, layers, and optimize function\n",
    "input_image, keep_prob, layer3_out, layer4_out, layer7_out = load_vgg(sess, vgg_path)\n",
    "nn_layers = layers(layer3_out, layer4_out, layer7_out, num_classes)\n",
    "learning_rate = tf.placeholder(tf.float32, name='learning_rate')\n",
    "correct_label = tf.placeholder(tf.float32, shape=(None, None, None, num_classes), name='correct_label')\n",
    "logits, train_op, cross_entropy_loss = optimize(nn_layers, correct_label, learning_rate, num_classes)\n",
    "\n",
    "# Initialize TF variables\n",
    "sess.run(tf.global_variables_initializer())"
   ]
  },
  {
   "cell_type": "code",
   "execution_count": 6,
   "metadata": {},
   "outputs": [
    {
     "name": "stdout",
     "output_type": "stream",
     "text": [
      "INFO:tensorflow:Restoring parameters from ./data/ckpt/model_25epoch_0071_good.ckpt\n"
     ]
    }
   ],
   "source": [
    "weights_path = './data/ckpt/model_25epoch_0071_good.ckpt'\n",
    "saver = tf.train.Saver()\n",
    "\n",
    "saver.restore(sess, weights_path)"
   ]
  },
  {
   "cell_type": "code",
   "execution_count": 9,
   "metadata": {
    "collapsed": true
   },
   "outputs": [],
   "source": [
    "get_batches_fn = helper.gen_batch_function(os.path.join(data_dir, 'data_road/training'), image_shape)"
   ]
  },
  {
   "cell_type": "code",
   "execution_count": 10,
   "metadata": {},
   "outputs": [
    {
     "data": {
      "application/vnd.jupyter.widget-view+json": {
       "model_id": "2b7101f43f4943fe8adebcb98c91d012"
      }
     },
     "metadata": {},
     "output_type": "display_data"
    },
    {
     "data": {
      "application/vnd.jupyter.widget-view+json": {
       "model_id": "53670db422a040f982636d196ae1c56a"
      }
     },
     "metadata": {},
     "output_type": "display_data"
    },
    {
     "data": {
      "application/vnd.jupyter.widget-view+json": {
       "model_id": "5af59e15f02342c6ac1cd028e821e61a"
      }
     },
     "metadata": {},
     "output_type": "display_data"
    },
    {
     "data": {
      "application/vnd.jupyter.widget-view+json": {
       "model_id": "c223560c4e9c45b59c748390a0e9589d"
      }
     },
     "metadata": {},
     "output_type": "display_data"
    },
    {
     "data": {
      "application/vnd.jupyter.widget-view+json": {
       "model_id": "7d7a237754134080ad3d2235012bfa7a"
      }
     },
     "metadata": {},
     "output_type": "display_data"
    },
    {
     "data": {
      "application/vnd.jupyter.widget-view+json": {
       "model_id": "6abdd892d7944be593016fefc3080a3e"
      }
     },
     "metadata": {},
     "output_type": "display_data"
    },
    {
     "data": {
      "application/vnd.jupyter.widget-view+json": {
       "model_id": "44d07196348942eaabc8663b617883ca"
      }
     },
     "metadata": {},
     "output_type": "display_data"
    },
    {
     "data": {
      "application/vnd.jupyter.widget-view+json": {
       "model_id": "cb0a9673048a475eae29884c0551e4ad"
      }
     },
     "metadata": {},
     "output_type": "display_data"
    },
    {
     "data": {
      "application/vnd.jupyter.widget-view+json": {
       "model_id": "80ce06f5b6874f37a69810c825f557ba"
      }
     },
     "metadata": {},
     "output_type": "display_data"
    },
    {
     "data": {
      "application/vnd.jupyter.widget-view+json": {
       "model_id": "9c2aa9c3beb24c679942650938dff64f"
      }
     },
     "metadata": {},
     "output_type": "display_data"
    },
    {
     "data": {
      "application/vnd.jupyter.widget-view+json": {
       "model_id": "a1ec7694fcc44a559b57662fe94f9412"
      }
     },
     "metadata": {},
     "output_type": "display_data"
    },
    {
     "data": {
      "application/vnd.jupyter.widget-view+json": {
       "model_id": "f60315c106014f128f0f6190427e8443"
      }
     },
     "metadata": {},
     "output_type": "display_data"
    },
    {
     "data": {
      "application/vnd.jupyter.widget-view+json": {
       "model_id": "47ec3726b1a84e6d9f26ea096c5e23ae"
      }
     },
     "metadata": {},
     "output_type": "display_data"
    },
    {
     "data": {
      "application/vnd.jupyter.widget-view+json": {
       "model_id": "5b7d2044a73a46b3bd03e1a4d01d95a7"
      }
     },
     "metadata": {},
     "output_type": "display_data"
    },
    {
     "data": {
      "application/vnd.jupyter.widget-view+json": {
       "model_id": "b07c580d4b1a49148eba34ba98aa5559"
      }
     },
     "metadata": {},
     "output_type": "display_data"
    },
    {
     "data": {
      "application/vnd.jupyter.widget-view+json": {
       "model_id": "341a188965dd42acb50deefa09629142"
      }
     },
     "metadata": {},
     "output_type": "display_data"
    },
    {
     "name": "stdout",
     "output_type": "stream",
     "text": [
      "\n"
     ]
    }
   ],
   "source": [
    "for ep in tnrange(epochs, unit=' epochs'):\n",
    "    pbar = tqdm_notebook(enumerate(get_batches_fn(batch_size)), unit=' batches')\n",
    "    for batch_idx, (image, label) in pbar:\n",
    "        feed_dict = {input_image: image,\n",
    "                     correct_label: label,\n",
    "                     keep_prob: 0.50,\n",
    "                     learning_rate: 1e-5,\n",
    "                     }\n",
    "        _, loss = sess.run([train_op, cross_entropy_loss], feed_dict)\n",
    "        if batch_idx % 10 == 0:\n",
    "            pbar.set_description('Epoch: %d, Batch: %d, Loss = %.3f' % (ep+1, batch_idx, loss))"
   ]
  },
  {
   "cell_type": "code",
   "execution_count": 11,
   "metadata": {},
   "outputs": [
    {
     "name": "stderr",
     "output_type": "stream",
     "text": [
      "\r",
      "0 files [00:00, ? files/s]"
     ]
    },
    {
     "name": "stdout",
     "output_type": "stream",
     "text": [
      "Training Finished. Saving test images to: ./runs/1504595878.0752022\n"
     ]
    },
    {
     "name": "stderr",
     "output_type": "stream",
     "text": [
      "290 files [03:10,  1.53 files/s]\n"
     ]
    }
   ],
   "source": [
    "helper.save_inference_samples(runs_dir, data_dir, sess, image_shape, logits, keep_prob, input_image)"
   ]
  },
  {
   "cell_type": "code",
   "execution_count": 12,
   "metadata": {},
   "outputs": [
    {
     "name": "stdout",
     "output_type": "stream",
     "text": [
      "Model saved in file: ./data/ckpt/model_40epoch_0050_final.ckpt\n"
     ]
    }
   ],
   "source": [
    "import time\n",
    "saver = tf.train.Saver()\n",
    "\n",
    "tf.add_to_collection('train_vars', input_image)\n",
    "tf.add_to_collection('train_vars', correct_label)\n",
    "tf.add_to_collection('train_vars', keep_prob)\n",
    "tf.add_to_collection('train_vars', learning_rate)\n",
    "tf.add_to_collection('train_vars', train_op)\n",
    "tf.add_to_collection('train_vars', cross_entropy_loss)\n",
    "\n",
    "tf.add_to_collection('eval_vars', input_image)\n",
    "tf.add_to_collection('eval_vars', logits)\n",
    "tf.add_to_collection('eval_vars', keep_prob)\n",
    "\n",
    "tf.train.write_graph(sess.graph_def, 'data/ckpt', 'model.pb', as_text=False) # Save model\n",
    "save_path = saver.save(sess, \"./data/ckpt/model_40epoch_0050_final.ckpt\") # Save weights\n",
    "\n",
    "print(\"Model saved in file: %s\" % save_path)"
   ]
  },
  {
   "cell_type": "code",
   "execution_count": 13,
   "metadata": {
    "collapsed": true
   },
   "outputs": [],
   "source": [
    "sess.close()"
   ]
  },
  {
   "cell_type": "code",
   "execution_count": null,
   "metadata": {},
   "outputs": [],
   "source": [
    "tf.reset_default_graph()\n",
    "model_path = './data/ckpt/model.pb'\n",
    "weights_path = './data/ckpt/model_20epoch_0119.ckpt'\n",
    "\n",
    "train_elements = ['image_input:0', 'correct_label:0', 'keep_prob:0', 'learning_rate:0', 'train_op:0', 'loss:0']\n",
    "eval_elements = ['image_input:0', 'logits:0', 'keep_prob:0']\n",
    "\n",
    "with tf.Session() as sess:\n",
    "    input_image, keep_prob, layer3_out, layer4_out, layer7_out = load_vgg(sess, vgg_path)\n",
    "    nn_layers = layers(layer3_out, layer4_out, layer7_out, num_classes)\n",
    "    learning_rate = tf.placeholder(tf.float32)\n",
    "    correct_label = tf.placeholder(tf.float32, shape=(None, None, None, num_classes))\n",
    "    logits, train_op, cross_entropy_loss = optimize(nn_layers, correct_label, learning_rate, num_classes)\n",
    "\n",
    "    saver = tf.train.Saver()\n",
    "    saver.restore(sess, weights_path)\n",
    "    helper.save_inference_samples(runs_dir, data_dir, sess, image_shape, logits, keep_prob, input_image)    "
   ]
  },
  {
   "cell_type": "code",
   "execution_count": null,
   "metadata": {
    "collapsed": true
   },
   "outputs": [],
   "source": [
    "def image_segmentation(image, sess, logits, keep_prob, image_pl, image_shape):\n",
    "    \"\"\"\n",
    "    Generate mask for given image\n",
    "    :param image: Image to be processed\n",
    "    :param sess: TF session\n",
    "    :param logits: TF Tensor for the logits\n",
    "    :param keep_prob: TF Placeholder for the dropout keep robability\n",
    "    :param image_pl: TF Placeholder for the image placeholder\n",
    "    :param image_shape: Tuple - Shape of image\n",
    "    :return: Output for for each test image\n",
    "    \"\"\"\n",
    "    image = scipy.misc.imresize(image, image_shape)\n",
    "\n",
    "    im_softmax = sess.run(\n",
    "        [tf.nn.softmax(logits)],\n",
    "        {keep_prob: 1.0, image_pl: [image]})\n",
    "    im_softmax = im_softmax[0][:, 1].reshape(image_shape[0], image_shape[1])\n",
    "    segmentation = (im_softmax > 0.5).reshape(image_shape[0], image_shape[1], 1)\n",
    "    mask = np.dot(segmentation, np.array([[0, 255, 0, 127]]))\n",
    "    return mask"
   ]
  },
  {
   "cell_type": "code",
   "execution_count": null,
   "metadata": {},
   "outputs": [],
   "source": [
    "# def load_graph(sess, graph_file):\n",
    "#     gd = tf.GraphDef()\n",
    "#     with tf.gfile.Open(graph_file, 'rb') as f:\n",
    "#         data = f.read()\n",
    "#         gd.ParseFromString(data)\n",
    "#     tf.import_graph_def(gd, name='')\n",
    "#     ops = sess.graph.get_operations()\n",
    "#     n_ops = len(ops)\n",
    "#     return sess.graph, ops\n",
    "\n",
    "# use_xla = True\n",
    "# jit_level = 0\n",
    "# config = tf.ConfigProto()\n",
    "# if use_xla:\n",
    "#     jit_level = tf.OptimizerOptions.ON_1\n",
    "#     config.graph_options.optimizer_options.global_jit_level = jit_level\n",
    "\n",
    "# with tf.Session(config=config, graph=tf.Graph()) as sess:\n",
    "#     graph, eightbit_ops = load_graph(sess, './data/ckpt/optimized_graph.pb')\n",
    "#     graph.as_default()\n",
    "#     sess.run(tf.global_variables_initializer())\n",
    "#     logits = graph.get_tensor_by_name('logits:0')\n",
    "#     keep_prob = graph.get_tensor_by_name('keep_prob:0')\n",
    "#     input_image = graph.get_tensor_by_name('image_input:0')\n",
    "#     helper.save_inference_samples(runs_dir, data_dir, sess, image_shape, logits, keep_prob, input_image)"
   ]
  },
  {
   "cell_type": "code",
   "execution_count": null,
   "metadata": {
    "collapsed": true
   },
   "outputs": [],
   "source": [
    "# ~/tensorflow/bazel-bin/tensorflow/python/tools/freeze_graph \\\n",
    "# --input_graph=model.pb \\\n",
    "# --input_checkpoint=model_25epoch_0071_good.ckpt \\\n",
    "# --input_binary=true \\\n",
    "# --output_graph=frozen_graph.pb --output_node_names=logits\n",
    "\n",
    "\n",
    "# ~/tensorflow/bazel-bin/tensorflow/python/tools/optimize_for_inference \\\n",
    "# --input=frozen_graph.pb \\\n",
    "# --output=optimized_graph.pb \\\n",
    "# --frozen_graph=True \\\n",
    "# --input_names=image_input \\\n",
    "# --output_names=logits\n",
    "\n",
    "# # sess, optimized_ops = load_graph('optimized_graph.pb')\n",
    "# # print(len(optimized_ops)) # 200\n",
    "\n",
    "# ~/tensorflow/bazel-bin/tensorflow/tools/graph_transforms/transform_graph \\\n",
    "# --in_graph=frozen_graph.pb \\\n",
    "# --out_graph=eightbit_graph.pb \\\n",
    "# --inputs=image_input \\\n",
    "# --outputs=logits \\\n",
    "# --transforms='\n",
    "# add_default_attributes\n",
    "# remove_nodes(op=Identity, op=CheckNumerics)\n",
    "# fold_constants(ignore_errors=true)\n",
    "# fold_batch_norms\n",
    "# fold_old_batch_norms\n",
    "# fuse_resize_and_conv\n",
    "# quantize_weights\n",
    "# quantize_nodes\n",
    "# strip_unused_nodes\n",
    "# sort_by_execution_order'\n",
    "\n",
    "# # sess, eightbit_ops = load_graph('eightbit_graph.pb')\n",
    "# # print(len(optimized_ops)) # 425\n"
   ]
  }
 ],
 "metadata": {
  "kernelspec": {
   "display_name": "Python 3",
   "language": "python",
   "name": "python3"
  },
  "language_info": {
   "codemirror_mode": {
    "name": "ipython",
    "version": 3
   },
   "file_extension": ".py",
   "mimetype": "text/x-python",
   "name": "python",
   "nbconvert_exporter": "python",
   "pygments_lexer": "ipython3",
   "version": "3.6.1"
  }
 },
 "nbformat": 4,
 "nbformat_minor": 2
}
