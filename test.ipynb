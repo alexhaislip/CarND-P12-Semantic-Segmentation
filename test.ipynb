{
 "cells": [
  {
   "cell_type": "code",
   "execution_count": null,
   "metadata": {},
   "outputs": [],
   "source": [
    "from main import *\n",
    "import tensorflow as tf\n",
    "\n",
    "from tqdm import tnrange, tqdm_notebook, tqdm"
   ]
  },
  {
   "cell_type": "code",
   "execution_count": null,
   "metadata": {},
   "outputs": [],
   "source": [
    "num_classes = 2\n",
    "image_shape = (160, 576)\n",
    "epochs = 15\n",
    "batch_size = 5\n",
    "data_dir = './data'\n",
    "runs_dir = './runs'\n",
    "tests.test_for_kitti_dataset(data_dir)\n",
    "\n",
    "# Download pretrained vgg model\n",
    "helper.maybe_download_pretrained_vgg(data_dir)\n",
    "\n",
    "# Path to vgg model\n",
    "vgg_path = os.path.join(data_dir, 'vgg')"
   ]
  },
  {
   "cell_type": "code",
   "execution_count": 3,
   "metadata": {
    "collapsed": true
   },
   "outputs": [],
   "source": [
    "sess = tf.Session()"
   ]
  },
  {
   "cell_type": "code",
   "execution_count": null,
   "metadata": {
    "collapsed": true
   },
   "outputs": [],
   "source": [
    "# def load_model(sess, model_path):\n",
    "#     input_image, keep_prob, layer3_out, layer4_out, layer7_out = load_vgg(sess, vgg_path)\n",
    "#     nn_layers = layers(layer3_out, layer4_out, layer7_out, num_classes)\n",
    "#     learning_rate = tf.placeholder(tf.float32)\n",
    "#     correct_label = tf.placeholder(tf.float32, shape=(None, None, None, num_classes))\n",
    "#     logits, train_op, cross_entropy_loss = optimize(nn_layers, correct_label, learning_rate, num_classes)\n",
    "\n",
    "#     saver = tf.train.Saver()\n",
    "#     # Restore variables from disk.\n",
    "#     saver.restore(sess, model_path)\n",
    "\n",
    "#     g = tf.get_default_graph()\n",
    "# #     print(g.get_operations())\n",
    "#     logits = g.get_tensor_by_name('logits:0')\n",
    "#     keep_prob = g.get_tensor_by_name('keep_prob:0')\n",
    "#     input_image = g.get_tensor_by_name('image_input:0')\n",
    "# #     correct_label = g.get_tensor_by_name('correct_label:0')\n",
    "# #     learning_rate = g.get_tensor_by_name('learning_rate:0')\n",
    "#     cross_entropy_loss = g.get_tensor_by_name('loss:0')\n",
    "#     optimizer = tf.train.AdamOptimizer(learning_rate, name='Adam')\n",
    "#     train_op = optimizer.minimize(cross_entropy_loss, name='train_op')"
   ]
  },
  {
   "cell_type": "code",
   "execution_count": null,
   "metadata": {},
   "outputs": [
    {
     "name": "stdout",
     "output_type": "stream",
     "text": [
      "INFO:tensorflow:Restoring parameters from b'./data/vgg/variables/variables'\n"
     ]
    }
   ],
   "source": [
    "# OPTIONAL: Augment Images for better results\n",
    "#  https://datascience.stackexchange.com/questions/5224/how-to-prepare-augment-images-for-neural-network\n",
    "\n",
    "# TODO: Build NN using load_vgg, layers, and optimize function\n",
    "input_image, keep_prob, layer3_out, layer4_out, layer7_out = load_vgg(sess, vgg_path)\n",
    "nn_layers = layers(layer3_out, layer4_out, layer7_out, num_classes)\n",
    "learning_rate = tf.placeholder(tf.float32, name='learning_rate')\n",
    "correct_label = tf.placeholder(tf.float32, shape=(None, None, None, num_classes), name='correct_label')\n",
    "logits, train_op, cross_entropy_loss = optimize(nn_layers, correct_label, learning_rate, num_classes)\n",
    "\n",
    "# Initialize TF variables\n",
    "sess.run(tf.global_variables_initializer())"
   ]
  },
  {
   "cell_type": "code",
   "execution_count": null,
   "metadata": {
    "collapsed": true
   },
   "outputs": [],
   "source": [
    "weights_path = './data/ckpt/model_20epoch_0119.ckpt'\n",
    "saver = tf.train.Saver() # 'Saver' misnomer! Better: Persister!\n",
    "\n",
    "saver.restore(sess, weights_path)"
   ]
  },
  {
   "cell_type": "code",
   "execution_count": null,
   "metadata": {
    "collapsed": true
   },
   "outputs": [],
   "source": [
    "get_batches_fn = helper.gen_batch_function(os.path.join(data_dir, 'data_road/training'), image_shape)"
   ]
  },
  {
   "cell_type": "code",
   "execution_count": null,
   "metadata": {},
   "outputs": [],
   "source": [
    "for ep in tnrange(epochs, unit=' epochs'):\n",
    "    pbar = tqdm_notebook(enumerate(get_batches_fn(batch_size)), unit=' batches')\n",
    "    for batch_idx, (image, label) in pbar:\n",
    "        feed_dict = {input_image: image,\n",
    "                     correct_label: label,\n",
    "                     keep_prob: 0.50,\n",
    "                     learning_rate: 1e-5,\n",
    "                     }\n",
    "        _, loss = sess.run([train_op, cross_entropy_loss], feed_dict)\n",
    "        if batch_idx % 10 == 0:\n",
    "            pbar.set_description('Epoch: %d, Batch: %d, Loss = %.3f' % (ep+1, batch_idx, loss))"
   ]
  },
  {
   "cell_type": "code",
   "execution_count": null,
   "metadata": {
    "collapsed": true
   },
   "outputs": [],
   "source": [
    "helper.save_inference_samples(runs_dir, data_dir, sess, image_shape, logits, keep_prob, input_image)"
   ]
  },
  {
   "cell_type": "code",
   "execution_count": null,
   "metadata": {},
   "outputs": [],
   "source": [
    "import time\n",
    "saver = tf.train.Saver()\n",
    "\n",
    "tf.add_to_collection('train_vars', input_image)\n",
    "tf.add_to_collection('train_vars', correct_label)\n",
    "tf.add_to_collection('train_vars', keep_prob)\n",
    "tf.add_to_collection('train_vars', learning_rate)\n",
    "tf.add_to_collection('train_vars', train_op)\n",
    "tf.add_to_collection('train_vars', cross_entropy_loss)\n",
    "\n",
    "tf.add_to_collection('eval_vars', input_image)\n",
    "tf.add_to_collection('eval_vars', logits)\n",
    "tf.add_to_collection('eval_vars', keep_prob)\n",
    "\n",
    "tf.train.write_graph(sess.graph_def, 'data/ckpt', 'model.pb', as_text=False) # Save model\n",
    "save_path = saver.save(sess, \"./data/ckpt/model_15epoch_0119_good.ckpt\") # Save weights\n",
    "\n",
    "print(\"Model saved in file: %s\" % save_path)"
   ]
  },
  {
   "cell_type": "code",
   "execution_count": null,
   "metadata": {
    "collapsed": true
   },
   "outputs": [],
   "source": [
    "sess.close()"
   ]
  },
  {
   "cell_type": "code",
   "execution_count": null,
   "metadata": {},
   "outputs": [],
   "source": [
    "tf.reset_default_graph()\n",
    "model_path = './data/ckpt/model.pb'\n",
    "weights_path = './data/ckpt/model_20epoch_0119.ckpt'\n",
    "\n",
    "train_elements = ['image_input:0', 'correct_label:0', 'keep_prob:0', 'learning_rate:0', 'train_op:0', 'loss:0']\n",
    "eval_elements = ['image_input:0', 'logits:0', 'keep_prob:0']\n",
    "\n",
    "with tf.Session() as sess:\n",
    "    input_image, keep_prob, layer3_out, layer4_out, layer7_out = load_vgg(sess, vgg_path)\n",
    "    nn_layers = layers(layer3_out, layer4_out, layer7_out, num_classes)\n",
    "    learning_rate = tf.placeholder(tf.float32)\n",
    "    correct_label = tf.placeholder(tf.float32, shape=(None, None, None, num_classes))\n",
    "    logits, train_op, cross_entropy_loss = optimize(nn_layers, correct_label, learning_rate, num_classes)\n",
    "\n",
    "#     with tf.gfile.FastGFile(model_path,'rb') as f:\n",
    "#         graph_def = tf.GraphDef()\n",
    "#         graph_def.ParseFromString(f.read())\n",
    "#     #     input_image, correct_label, keep_prob, learning_rate, train_op, cross_entropy_loss = \\\n",
    "#     #                     tf.import_graph_def(graph_def, name='', return_elements=train_elements)\n",
    "#         sess.graph.as_default()\n",
    "#         tf.import_graph_def(graph_def, name='')#, return_elements=eval_elements)\n",
    "#         sess.run(tf.global_variables_initializer())\n",
    "\n",
    "    saver = tf.train.Saver() # 'Saver' misnomer! Better: Persister!\n",
    "\n",
    "    saver.restore(sess, weights_path)\n",
    "    helper.save_inference_samples(runs_dir, data_dir, sess, image_shape, logits, keep_prob, input_image)    "
   ]
  },
  {
   "cell_type": "code",
   "execution_count": null,
   "metadata": {
    "collapsed": true
   },
   "outputs": [],
   "source": []
  }
 ],
 "metadata": {
  "kernelspec": {
   "display_name": "Python 3",
   "language": "python",
   "name": "python3"
  },
  "language_info": {
   "codemirror_mode": {
    "name": "ipython",
    "version": 3
   },
   "file_extension": ".py",
   "mimetype": "text/x-python",
   "name": "python",
   "nbconvert_exporter": "python",
   "pygments_lexer": "ipython3",
   "version": "3.6.1"
  }
 },
 "nbformat": 4,
 "nbformat_minor": 2
}
